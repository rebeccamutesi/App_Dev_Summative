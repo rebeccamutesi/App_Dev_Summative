{
 "cells": [
  {
   "cell_type": "markdown",
   "metadata": {},
   "source": [
    "#### SOLAR POWER PLANT COORDINATES USED: 142.110216 , -19.461907\n",
    "#### WIND POWER PLANT COORDINATES USED: 53.556563, 8.598084\n",
    "\n",
    "Data Used:\n",
    "- Sunshine\n",
    "- Cloudcover\n",
    "- Temperature\n",
    "- Wind Speed\n",
    "\n",
    "Source(s) of Data: \n",
    "- 7Timer API.\n",
    "- Solar Farm and Wind Farm Monthly Schedule CSV Files\n",
    "- Annual Generation Data for Solar Farm and Wind Farm\n"
   ]
  },
  {
   "cell_type": "markdown",
   "metadata": {},
   "source": [
    "ML MODEL 1 (SOLAR POWER PLANT)\n",
    "Chosen method: Random Forest Regression"
   ]
  },
  {
   "cell_type": "code",
   "execution_count": 2,
   "metadata": {},
   "outputs": [],
   "source": [
    "#import libraries\n",
    "\n",
    "import matplotlib.pyplot as plt\n",
    "import pandas as pd\n",
    "from sklearn.model_selection import train_test_split\n",
    "from sklearn.ensemble import RandomForestRegressor\n",
    "from sklearn.pipeline import Pipeline\n",
    "\n",
    "import warnings\n",
    "warnings.filterwarnings(\"ignore\", category=FutureWarning)"
   ]
  },
  {
   "cell_type": "code",
   "execution_count": null,
   "metadata": {},
   "outputs": [],
   "source": [
    "#loading the data for analysis\n",
    "#dateparse = lambda x: pd.datetime.strptime(x, '%Y-%m-%d %H:%M:%S')\n",
    "solar_data = pd.read_csv('solar_generation_data.csv')"
   ]
  },
  {
   "cell_type": "code",
   "execution_count": null,
   "metadata": {},
   "outputs": [],
   "source": [
    "#inspecting the data\n",
    "solar_data.head()"
   ]
  },
  {
   "cell_type": "code",
   "execution_count": null,
   "metadata": {},
   "outputs": [],
   "source": [
    "solar_data.isnull().sum(axis=0) "
   ]
  },
  {
   "cell_type": "markdown",
   "metadata": {},
   "source": [
    "Rainfall shows 53 missing rows of information.\n",
    "\n",
    "A quick google search about the impact on rainfall on solar power output shows that \"While the rain itself will have no impact on the panels, the rain clouds will likely lower your production. However, the occasional rainstorm could actually be good for your solar system's production, because it's a no-fuss, safe way to clean your panels.\"\n",
    "\n",
    "The main weather conditions that affect solar power output are solar irradiation, cloudcover and temperature. We therefore choose to proceed with the ML model but excluding the rainfall column in the prediction. We instead fill the empty data rows with the median rainfall values to avoid any issues moving forward"
   ]
  },
  {
   "cell_type": "code",
   "execution_count": null,
   "metadata": {},
   "outputs": [],
   "source": [
    "solar_data['Rainfall in mm'] = solar_data['Rainfall in mm'].fillna(0)"
   ]
  },
  {
   "cell_type": "code",
   "execution_count": null,
   "metadata": {},
   "outputs": [],
   "source": [
    "solar_data.isnull().sum(axis=0) "
   ]
  },
  {
   "cell_type": "code",
   "execution_count": null,
   "metadata": {},
   "outputs": [],
   "source": [
    "solar_data.shape"
   ]
  },
  {
   "cell_type": "code",
   "execution_count": null,
   "metadata": {},
   "outputs": [],
   "source": [
    "solar_data.info()"
   ]
  },
  {
   "cell_type": "markdown",
   "metadata": {},
   "source": [
    "From the data types, we determine that temperature values need to be converted to floats for the model. "
   ]
  },
  {
   "cell_type": "code",
   "execution_count": null,
   "metadata": {},
   "outputs": [],
   "source": [
    "#solar_data['Temp Hi'] = pd.to_numeric(solar_data['Temp Hi'], errors='coerce')\n",
    "#solar_data['Temp Low'] = pd.to_numeric(solar_data['Temp Low'], errors='coerce')"
   ]
  },
  {
   "cell_type": "code",
   "execution_count": null,
   "metadata": {},
   "outputs": [],
   "source": [
    "solar_data.info()"
   ]
  },
  {
   "cell_type": "code",
   "execution_count": null,
   "metadata": {},
   "outputs": [],
   "source": [
    "solar_data.isnull().sum(axis=0) "
   ]
  },
  {
   "cell_type": "code",
   "execution_count": null,
   "metadata": {},
   "outputs": [],
   "source": [
    "solar_data['Temp Hi'] = solar_data['Temp Hi'].replace('\\u00b0','', regex=True)\n",
    "solar_data['Temp Hi'] = pd.to_numeric(solar_data['Temp Hi'], downcast=\"float\")\n",
    "\n",
    "solar_data['Temp Low'] = solar_data['Temp Low'].replace('\\u00b0','', regex=True)\n",
    "solar_data['Temp Low'] = pd.to_numeric(solar_data['Temp Low'], downcast=\"float\")\n",
    "\n",
    "#solar_data['Temp Lo'] = pd.to_numeric(solar_data['Temp Lo'])"
   ]
  },
  {
   "cell_type": "code",
   "execution_count": null,
   "metadata": {},
   "outputs": [],
   "source": [
    "solar_data.info()"
   ]
  },
  {
   "cell_type": "code",
   "execution_count": null,
   "metadata": {},
   "outputs": [],
   "source": [
    "#training and test sets\n",
    "\n",
    "# Values of attributes\n",
    "\n",
    "dataset = solar_data.drop(['Month ', 'Day', 'Power Generated in MW', 'Rainfall in mm'], axis=1)\n",
    "X = dataset.values\n",
    "y = solar_data['Power Generated in MW'].values\n",
    "\n",
    "#data splitting\n",
    "\n",
    "X_train, X_test, y_train, y_test = train_test_split(X, y, test_size=0.3, random_state=42)\n",
    "\n",
    "#data transformation (scaling)\n",
    "\n",
    "from sklearn.preprocessing import StandardScaler\n",
    "scaler = StandardScaler()\n",
    "scaler.fit(X_train)\n",
    "X_train = scaler.transform(X_train)\n",
    "X_test = scaler.transform(X_test)\n",
    "\n",
    "#creation of regressor model\n",
    "\n",
    "forest_model = RandomForestRegressor(n_jobs=-1)\n",
    "\n",
    "#fitting model\n",
    "forest_model.fit(X_train, y_train) # fit model\n",
    "\n",
    "#predicting\n",
    "y_predicted = forest_model.predict(X_test)"
   ]
  },
  {
   "cell_type": "code",
   "execution_count": null,
   "metadata": {},
   "outputs": [],
   "source": [
    "#accuracy\n",
    "#accuracy determination of random forest regression\n",
    "from sklearn.metrics import r2_score\n",
    "score = r2_score(y_test, y_predicted)\n",
    "score"
   ]
  },
  {
   "cell_type": "code",
   "execution_count": null,
   "metadata": {},
   "outputs": [],
   "source": [
    "y_predicted.size"
   ]
  },
  {
   "cell_type": "code",
   "execution_count": null,
   "metadata": {},
   "outputs": [],
   "source": [
    "y_predicted"
   ]
  },
  {
   "cell_type": "code",
   "execution_count": null,
   "metadata": {},
   "outputs": [],
   "source": [
    "#creation of pipeline to store and add predicted data to the dataframe"
   ]
  },
  {
   "cell_type": "markdown",
   "metadata": {},
   "source": [
    "ML MODEL 2 (WIND POWER PLANT)\n",
    "Chosen method: Random Forest Regression"
   ]
  },
  {
   "cell_type": "code",
   "execution_count": null,
   "metadata": {},
   "outputs": [],
   "source": [
    "wind_data = pd.read_csv('wind_generation_data.csv')"
   ]
  },
  {
   "cell_type": "code",
   "execution_count": null,
   "metadata": {},
   "outputs": [],
   "source": [
    "#inspecting the data\n",
    "wind_data.head()"
   ]
  },
  {
   "cell_type": "code",
   "execution_count": null,
   "metadata": {},
   "outputs": [],
   "source": [
    "wind_data.isnull().sum(axis=0)"
   ]
  },
  {
   "cell_type": "code",
   "execution_count": null,
   "metadata": {},
   "outputs": [],
   "source": []
  }
 ],
 "metadata": {
  "kernelspec": {
   "display_name": "Python 3",
   "language": "python",
   "name": "python3"
  },
  "language_info": {
   "codemirror_mode": {
    "name": "ipython",
    "version": 3
   },
   "file_extension": ".py",
   "mimetype": "text/x-python",
   "name": "python",
   "nbconvert_exporter": "python",
   "pygments_lexer": "ipython3",
   "version": "3.8.5"
  }
 },
 "nbformat": 4,
 "nbformat_minor": 2
}
